{
 "cells": [
  {
   "cell_type": "markdown",
   "id": "8d44aeb1",
   "metadata": {},
   "source": [
    "# BMI CALCULATOR\n",
    "\n",
    "### This is a program created for calculating BMI value and corresponding weight status of a human body.\n"
   ]
  },
  {
   "cell_type": "code",
   "execution_count": null,
   "id": "553a77a6",
   "metadata": {},
   "outputs": [],
   "source": [
    "#Insert your weight\n",
    "\n",
    "weight = int(input('What\\'s your weight:'))\n",
    "\n",
    "# insert your height\n",
    "\n",
    "height = int(input('What\\'s your height: '))\n",
    "\n",
    "# BMI formula\n",
    "\n",
    "bmi = weight/float(height*height)\n",
    "\n",
    "if bmi < 18.5:\n",
    "    print('Underweight')\n",
    "elif bmi >= 18.5 and bmi < 25:\n",
    "    print('Normal')\n",
    "elif bmi>=25 and bmi < 30:\n",
    "    print('Overweight')\n",
    "else:\n",
    "    print('Obesity')"
   ]
  },
  {
   "cell_type": "code",
   "execution_count": null,
   "id": "5979564d",
   "metadata": {},
   "outputs": [],
   "source": []
  }
 ],
 "metadata": {
  "kernelspec": {
   "display_name": "Python 3",
   "language": "python",
   "name": "python3"
  },
  "language_info": {
   "codemirror_mode": {
    "name": "ipython",
    "version": 3
   },
   "file_extension": ".py",
   "mimetype": "text/x-python",
   "name": "python",
   "nbconvert_exporter": "python",
   "pygments_lexer": "ipython3",
   "version": "3.8.8"
  }
 },
 "nbformat": 4,
 "nbformat_minor": 5
}
